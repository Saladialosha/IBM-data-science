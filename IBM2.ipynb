{
 "cells": [
  {
   "cell_type": "markdown",
   "id": "ba0c0bad",
   "metadata": {},
   "source": [
    "# Data Science Notebook\n"
   ]
  },
  {
   "cell_type": "markdown",
   "id": "70f71abe",
   "metadata": {},
   "source": [
    "## Introduction\n",
    "\n",
    "Welcome to this Data Science notebook, where we explore various concepts and tools in the field of data science. In this notebook, we'll cover programming languages, libraries, and tools commonly used in data science. We'll also delve into mathematical expressions and practical examples.\n",
    "\n",
    "Let's get started!\n"
   ]
  },
  {
   "cell_type": "markdown",
   "id": "5feff3fb",
   "metadata": {},
   "source": [
    "## Data Science Languages\n",
    "\n",
    "1. Python\n",
    "2. R\n",
    "3. Julia\n",
    "4. SQL\n",
    "5. Scala\n"
   ]
  },
  {
   "cell_type": "markdown",
   "id": "cc1585bb",
   "metadata": {},
   "source": [
    "## Data Science Libraries\n",
    "\n",
    "1. NumPy\n",
    "2. pandas\n",
    "3. Matplotlib\n",
    "4. Seaborn\n",
    "5. scikit-learn\n",
    "6. TensorFlow\n",
    "7. PyTorch\n",
    "8. Keras\n",
    "9. ggplot2\n",
    "10. dplyr\n"
   ]
  },
  {
   "cell_type": "markdown",
   "id": "516d35c5",
   "metadata": {},
   "source": [
    "## Data Science Tools\n",
    "\n",
    "| Tool Name         | Description                                    |\n",
    "|-------------------|-----------------------------------------------|\n",
    "| Jupyter Notebook  | Interactive computing environment             |\n",
    "| RStudio           | Integrated development environment for R     |\n",
    "| Visual Studio Code| Code editor with Jupyter notebook support    |\n",
    "| Google Colab      | Cloud-based Jupyter notebooks on Google Drive |\n",
    "| GitHub            | Version control and collaboration platform   |\n",
    "| Python            | General-purpose programming language         |\n",
    "| R                 | Statistical computing and graphics            |\n",
    "| SQL               | Query language for managing databases        |\n",
    "| scikit-learn      | Machine learning library in Python           |\n",
    "| TensorFlow        | Open-source machine learning framework       |\n"
   ]
  },
  {
   "cell_type": "markdown",
   "id": "7ddc34b9",
   "metadata": {},
   "source": [
    "## Arithmetic Expressions\n",
    "\n",
    "In this section, we'll explore arithmetic expressions and provide practical examples to demonstrate mathematical operations.\n"
   ]
  },
  {
   "cell_type": "markdown",
   "id": "8b7525e4",
   "metadata": {},
   "source": [
    "# Multiply and Add Numbers\n",
    "\n"
   ]
  },
  {
   "cell_type": "code",
   "execution_count": 1,
   "id": "5eb762c9",
   "metadata": {},
   "outputs": [
    {
     "data": {
      "text/plain": [
       "11"
      ]
     },
     "execution_count": 1,
     "metadata": {},
     "output_type": "execute_result"
    }
   ],
   "source": [
    "result = 2 * 3 + 5\n",
    "result"
   ]
  },
  {
   "cell_type": "markdown",
   "id": "2b7809f4",
   "metadata": {},
   "source": [
    "# Convert Minutes to Hours\n",
    "\n"
   ]
  },
  {
   "cell_type": "code",
   "execution_count": 2,
   "id": "f6ad815c",
   "metadata": {},
   "outputs": [
    {
     "data": {
      "text/plain": [
       "2.0"
      ]
     },
     "execution_count": 2,
     "metadata": {},
     "output_type": "execute_result"
    }
   ],
   "source": [
    "minutes = 120\n",
    "hours = minutes / 60\n",
    "hours"
   ]
  },
  {
   "cell_type": "markdown",
   "id": "b9c7cccf",
   "metadata": {},
   "source": [
    "## Objectives\n",
    "\n",
    "In this notebook, we aim to achieve the following objectives:\n",
    "\n",
    "1. Explore data science languages and libraries.\n",
    "2. Introduce common data science tools.\n",
    "3. Demonstrate arithmetic expressions and mathematical operations.\n",
    "4. Author and share a data science notebook.\n"
   ]
  },
  {
   "cell_type": "markdown",
   "id": "260d770d",
   "metadata": {},
   "source": [
    "## Author\n",
    "\n",
    "This notebook was created by [Saladi Alosha].\n"
   ]
  },
  {
   "cell_type": "code",
   "execution_count": null,
   "id": "81378e56",
   "metadata": {},
   "outputs": [],
   "source": []
  }
 ],
 "metadata": {
  "kernelspec": {
   "display_name": "Python 3 (ipykernel)",
   "language": "python",
   "name": "python3"
  },
  "language_info": {
   "codemirror_mode": {
    "name": "ipython",
    "version": 3
   },
   "file_extension": ".py",
   "mimetype": "text/x-python",
   "name": "python",
   "nbconvert_exporter": "python",
   "pygments_lexer": "ipython3",
   "version": "3.11.5"
  }
 },
 "nbformat": 4,
 "nbformat_minor": 5
}
